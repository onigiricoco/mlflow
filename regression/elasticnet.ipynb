{
 "cells": [
  {
   "cell_type": "code",
   "execution_count": 5,
   "metadata": {},
   "outputs": [],
   "source": [
    "def train(in_alpha, in_l1_ratio):\n",
    "    import logging\n",
    "    import warnings\n",
    "    import numpy as np\n",
    "    import pandas as pd\n",
    "    import sklearn\n",
    "    from sklearn.linear_model import ElasticNet\n",
    "    from sklearn.model_selection import train_test_split\n",
    "    from sklearn.metrics import mean_absolute_error, mean_squared_error, r2_score\n",
    "    import mlflow \n",
    "    import mlflow.sklearn\n",
    "    from mlflow.models import infer_signature\n",
    "    logging.basicConfig(level=logging.WARN)\n",
    "    logger=logging.getLogger(__name__)  #???\n",
    "\n",
    "    def eval_metrics(actual,pred):\n",
    "        rmse=np.sqrt(mean_squared_error(actual,pred))\n",
    "        mae=mean_absolute_error(actual,pred)\n",
    "        r2=r2_score(actual,pred)\n",
    "        return rmse,mae,r2 \n",
    "    \n",
    "    warnings.filterwarnings('ignore')\n",
    "    np.random.seed(34)\n",
    "    \n",
    "    # fetch data\n",
    "    csv_url=('http://archive.ics.uci.edu/ml/machine-learning-databases/wine-quality/winequality-red.csv')\n",
    "    try:\n",
    "        data=pd.read_csv(csv_url, sep=';')\n",
    "    except Exception as e:\n",
    "        logger.exception('no file exists')\n",
    "    \n",
    "    # ML\n",
    "    train, test=train_test_split(data)\n",
    "    train_y,test_y=train[['quality']], test[['quality']]\n",
    "    train_x,test_x=train.drop(['quality'],axis=1), test.drop(['quality'],axis=1)\n",
    "    \n",
    "    if float(in_alpha) is None:\n",
    "        alpha=.5\n",
    "    else:\n",
    "        alpha=float(in_alpha)\n",
    "    if float(in_l1_ratio) is None:\n",
    "        l1_ratio=.5\n",
    "    else:\n",
    "        l1_ratio=float(in_l1_ratio)\n",
    "\n",
    "    with mlflow.start_run():\n",
    "        regression=ElasticNet(alpha=alpha, l1_ratio=l1_ratio, random_state=34)\n",
    "        regression.fit(train_x, train_y)\n",
    "        pre= regression.predict(test_x)\n",
    "        (rmse,mae,r2)=eval_metrics(test_y,pre)\n",
    "\n",
    "        print(f'elasticnet model(alpha={alpha:f}, l1={l1_ratio:f})')\n",
    "        print('rmse:%s'%rmse)\n",
    "        print('mae:%s'%mae)\n",
    "        print('r2:%s'%r2)\n",
    "\n",
    "        predictions=regression.predict(train_x)  \n",
    "        signature=infer_signature(train_x, predictions)   #output is a dataframe like table; why training set?\n",
    "\n",
    "        #mlflow\n",
    "        mlflow.log_param('alpha', alpha)\n",
    "        mlflow.log_param('l1_ratio', l1_ratio)\n",
    "        mlflow.log_metric('rmse', rmse)\n",
    "        mlflow.log_metric('mae',mae)\n",
    "        mlflow.log_metric('r2',r2)\n",
    "\n",
    "        mlflow.sklearn.log_model(regression,'model',signature=signature)\n",
    "\n",
    "\n"
   ]
  },
  {
   "cell_type": "code",
   "execution_count": 6,
   "metadata": {},
   "outputs": [
    {
     "name": "stdout",
     "output_type": "stream",
     "text": [
      "elasticnet model(alpha=0.500000, l1=0.500000)\n",
      "rmse:0.7746160676272058\n",
      "mae:0.6189198753382797\n",
      "r2:0.13161828976991063\n"
     ]
    }
   ],
   "source": [
    "train(.5, .5)"
   ]
  },
  {
   "cell_type": "code",
   "execution_count": 23,
   "metadata": {},
   "outputs": [
    {
     "name": "stdout",
     "output_type": "stream",
     "text": [
      "elasticnet model(alpha=0.600000, l1=0.300000)\n",
      "rmse:0.7635105696953153\n",
      "mae:0.6046901038382586\n",
      "r2:0.15633938993962904\n"
     ]
    }
   ],
   "source": [
    "train(.6,.3)"
   ]
  },
  {
   "cell_type": "code",
   "execution_count": 11,
   "metadata": {},
   "outputs": [],
   "source": [
    "!cd C:\\Users\\Robin\\learn-git\\regression\\mlruns"
   ]
  },
  {
   "cell_type": "code",
   "execution_count": 22,
   "metadata": {},
   "outputs": [
    {
     "name": "stdout",
     "output_type": "stream",
     "text": [
      "^C\n"
     ]
    }
   ],
   "source": [
    "!mlflow ui"
   ]
  },
  {
   "cell_type": "code",
   "execution_count": 17,
   "metadata": {},
   "outputs": [
    {
     "name": "stdout",
     "output_type": "stream",
     "text": [
      "Collecting Werkzeug==2.3.7\n",
      "  Downloading werkzeug-2.3.7-py3-none-any.whl (242 kB)\n",
      "Requirement already satisfied: MarkupSafe>=2.1.1 in c:\\users\\robin\\anaconda3\\lib\\site-packages (from Werkzeug==2.3.7) (2.1.3)\n",
      "Installing collected packages: Werkzeug\n",
      "  Attempting uninstall: Werkzeug\n",
      "    Found existing installation: werkzeug 3.0.0\n",
      "    Uninstalling werkzeug-3.0.0:\n",
      "      Successfully uninstalled werkzeug-3.0.0\n",
      "Successfully installed Werkzeug-2.3.7\n"
     ]
    }
   ],
   "source": [
    "! pip install Werkzeug==2.3.7"
   ]
  },
  {
   "cell_type": "code",
   "execution_count": 15,
   "metadata": {},
   "outputs": [
    {
     "name": "stdout",
     "output_type": "stream",
     "text": [
      "Collecting Flask==2.2.2\n",
      "  Downloading Flask-2.2.2-py3-none-any.whl (101 kB)\n",
      "Collecting Werkzeug>=2.2.2\n",
      "  Using cached werkzeug-3.0.0-py3-none-any.whl (226 kB)\n",
      "Requirement already satisfied: click>=8.0 in c:\\users\\robin\\anaconda3\\lib\\site-packages (from Flask==2.2.2) (8.0.3)\n",
      "Requirement already satisfied: importlib-metadata>=3.6.0 in c:\\users\\robin\\anaconda3\\lib\\site-packages (from Flask==2.2.2) (4.8.1)\n",
      "Requirement already satisfied: Jinja2>=3.0 in c:\\users\\robin\\anaconda3\\lib\\site-packages (from Flask==2.2.2) (3.1.2)\n",
      "Requirement already satisfied: itsdangerous>=2.0 in c:\\users\\robin\\anaconda3\\lib\\site-packages (from Flask==2.2.2) (2.0.1)\n",
      "Requirement already satisfied: colorama in c:\\users\\robin\\anaconda3\\lib\\site-packages (from click>=8.0->Flask==2.2.2) (0.4.4)\n",
      "Requirement already satisfied: zipp>=0.5 in c:\\users\\robin\\anaconda3\\lib\\site-packages (from importlib-metadata>=3.6.0->Flask==2.2.2) (3.6.0)\n",
      "Requirement already satisfied: MarkupSafe>=2.0 in c:\\users\\robin\\anaconda3\\lib\\site-packages (from Jinja2>=3.0->Flask==2.2.2) (2.1.3)\n",
      "Installing collected packages: Werkzeug, Flask\n",
      "  Attempting uninstall: Werkzeug\n",
      "    Found existing installation: Werkzeug 2.0.2\n",
      "    Uninstalling Werkzeug-2.0.2:\n",
      "      Successfully uninstalled Werkzeug-2.0.2\n",
      "  Attempting uninstall: Flask\n",
      "    Found existing installation: Flask 1.1.2\n",
      "    Uninstalling Flask-1.1.2:\n",
      "      Successfully uninstalled Flask-1.1.2\n",
      "Successfully installed Flask-2.2.2 Werkzeug-3.0.0\n"
     ]
    }
   ],
   "source": [
    "! pip install Flask==2.2.2\n"
   ]
  },
  {
   "cell_type": "code",
   "execution_count": 19,
   "metadata": {},
   "outputs": [
    {
     "name": "stdout",
     "output_type": "stream",
     "text": [
      "^C\n"
     ]
    }
   ],
   "source": [
    "!mlflow ui --host 0.0.0.0"
   ]
  },
  {
   "cell_type": "code",
   "execution_count": 7,
   "metadata": {},
   "outputs": [
    {
     "data": {
      "text/plain": [
       "['C:\\\\Users\\\\Robin\\\\AppData\\\\Roaming\\\\Python\\\\Python310\\\\site-packages\\\\ipykernel_launcher.py',\n",
       " '--ip=127.0.0.1',\n",
       " '--stdin=9011',\n",
       " '--control=9009',\n",
       " '--hb=9008',\n",
       " '--Session.signature_scheme=\"hmac-sha256\"',\n",
       " '--Session.key=b\"80680fdd-0eef-42fb-ae6e-7e7e60b47d90\"',\n",
       " '--shell=9010',\n",
       " '--transport=\"tcp\"',\n",
       " '--iopub=9012',\n",
       " '--f=c:\\\\Users\\\\Robin\\\\AppData\\\\Roaming\\\\jupyter\\\\runtime\\\\kernel-v2-15932OermygJSinQt.json']"
      ]
     },
     "execution_count": 7,
     "metadata": {},
     "output_type": "execute_result"
    }
   ],
   "source": [
    "import sys\n",
    "sys.argv"
   ]
  },
  {
   "cell_type": "code",
   "execution_count": 24,
   "metadata": {},
   "outputs": [
    {
     "ename": "NameError",
     "evalue": "name 'mlflow' is not defined",
     "output_type": "error",
     "traceback": [
      "\u001b[1;31m---------------------------------------------------------------------------\u001b[0m",
      "\u001b[1;31mNameError\u001b[0m                                 Traceback (most recent call last)",
      "Cell \u001b[1;32mIn[24], line 1\u001b[0m\n\u001b[1;32m----> 1\u001b[0m \u001b[39mprint\u001b[39m(\u001b[39m'\u001b[39m\u001b[39mtracking uri:\u001b[39m\u001b[39m'\u001b[39m, mlflow\u001b[39m.\u001b[39mget_tracking_uri())\n\u001b[0;32m      2\u001b[0m \u001b[39mprint\u001b[39m(\u001b[39m'\u001b[39m\u001b[39martifact uri:\u001b[39m\u001b[39m'\u001b[39m, mlflow\u001b[39m.\u001b[39mget_artifact_uri())\n",
      "\u001b[1;31mNameError\u001b[0m: name 'mlflow' is not defined"
     ]
    }
   ],
   "source": [
    "\n",
    "print('tracking uri:', mlflow.get_tracking_uri())\n",
    "print('artifact uri:', mlflow.get_artifact_uri())"
   ]
  }
 ],
 "metadata": {
  "kernelspec": {
   "display_name": "Python 3",
   "language": "python",
   "name": "python3"
  },
  "language_info": {
   "codemirror_mode": {
    "name": "ipython",
    "version": 3
   },
   "file_extension": ".py",
   "mimetype": "text/x-python",
   "name": "python",
   "nbconvert_exporter": "python",
   "pygments_lexer": "ipython3",
   "version": "3.10.2"
  },
  "orig_nbformat": 4,
  "vscode": {
   "interpreter": {
    "hash": "6ddb9d49f01c08b650b2475798d3b5b8f5fc430922bf05166bf85d448657af32"
   }
  }
 },
 "nbformat": 4,
 "nbformat_minor": 2
}
